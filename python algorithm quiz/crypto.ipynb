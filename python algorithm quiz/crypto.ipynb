{
 "cells": [
  {
   "cell_type": "markdown",
   "metadata": {},
   "source": [
    "어떤 문장의 각 알파벳을 일정한 거리만큼 밀어서 다른 알파벳으로 바꾸는 암호화 방식을 시저 암호라고 합니다.\n",
    "\n",
    "A를 3만큼 밀면 D가 되고 z를 1만큼 밀면 a가 됩니다. 공백은 수정하지 않습니다.\n",
    "\n",
    "보낼 문자열 s와 얼마나 밀지 알려주는 n을 입력받아 암호문을 만드는 ceasar 함수를 완성해 보세요.\n",
    "\n",
    "“a B z”,4를 입력받았다면 “e F d”를 리턴합니다"
   ]
  },
  {
   "cell_type": "code",
   "execution_count": 1,
   "metadata": {},
   "outputs": [
    {
     "name": "stdout",
     "output_type": "stream",
     "text": [
      "s는 \"a B z\", n은 4인 경우: e F d\n"
     ]
    }
   ],
   "source": [
    "def caesar(s, n):\n",
    "    alphabet = 'abcdefghijklmnopqrstuvwxyz'\n",
    "\n",
    "    result = \"\"\n",
    "    for c in s:\n",
    "        if c == ' ':\n",
    "            replace = ' '\n",
    "        else:\n",
    "            replace = c.lower()\n",
    "            index = (alphabet.index(replace) + n) % 26\n",
    "            replace = alphabet[index]\n",
    "            if c.isupper():\n",
    "                replace = replace.upper()\n",
    "        result += replace\n",
    "\n",
    "\n",
    "    return result\n",
    "    # 주어진 문장을 암호화하여 반환하세요.\n",
    "\n",
    "\n",
    "# 실행을 위한 테스트코드입니다.\n",
    "print('s는 \"a B z\", n은 4인 경우: ' + caesar(\"a B z\", 4))"
   ]
  },
  {
   "cell_type": "code",
   "execution_count": 2,
   "metadata": {},
   "outputs": [
    {
     "name": "stdout",
     "output_type": "stream",
     "text": [
      "s는 \"a B z\", n은 4인 경우: f G e\n"
     ]
    }
   ],
   "source": [
    "import string\n",
    "def caesar(s, n):\n",
    "    res   = []\n",
    "    for num,i in enumerate(list(s)):\n",
    "        if i in list(string.ascii_uppercase) and i !=\"\":\n",
    "            res.append(list(string.ascii_uppercase)[(list(string.ascii_uppercase).index(i)+n)%len(list(string.ascii_uppercase))])\n",
    "        elif i in list(string.ascii_lowercase) and i != \"\":\n",
    "            res.append(list(string.ascii_lowercase)[(list(string.ascii_lowercase).index(i)+n)%len(list(string.ascii_lowercase)) ])\n",
    "        elif i==\" \": res.append(\" \")\n",
    "    return ''.join(map(str,res))\n",
    "    # 주어진 문장을 암호화하여 반환하세요.\n",
    "\n",
    "\n",
    "# 실행을 위한 테스트코드입니다.\n",
    "print('s는 \"a B z\", n은 4인 경우: ' + caesar(\"a B z\", 5))"
   ]
  },
  {
   "cell_type": "code",
   "execution_count": null,
   "metadata": {
    "collapsed": true
   },
   "outputs": [],
   "source": []
  }
 ],
 "metadata": {
  "kernelspec": {
   "display_name": "Python 3",
   "language": "python",
   "name": "python3"
  },
  "language_info": {
   "codemirror_mode": {
    "name": "ipython",
    "version": 3
   },
   "file_extension": ".py",
   "mimetype": "text/x-python",
   "name": "python",
   "nbconvert_exporter": "python",
   "pygments_lexer": "ipython3",
   "version": "3.6.0"
  }
 },
 "nbformat": 4,
 "nbformat_minor": 2
}
